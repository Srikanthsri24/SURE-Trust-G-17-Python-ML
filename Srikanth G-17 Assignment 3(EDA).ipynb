{
 "cells": [
  {
   "cell_type": "markdown",
   "id": "ec638812",
   "metadata": {},
   "source": [
    "Assignment 3 Data Visualization, EDA and Statistics"
   ]
  },
  {
   "cell_type": "markdown",
   "id": "8e8571eb",
   "metadata": {},
   "source": [
    "Exploratory data analysis on COVID-19 across the globe.\n",
    "Problem is divided into 3 sections.\n",
    "\n",
    "Data Understaing,\n",
    "EDA and Visualization\n",
    "Statistics."
   ]
  },
  {
   "cell_type": "raw",
   "id": "d0cd455a",
   "metadata": {},
   "source": [
    "Name:   Dubbaka Srikanth(Srikanth Sri G-17 Python)\n",
    "Email:  srikanthdubbaka123@gmail.com"
   ]
  },
  {
   "cell_type": "markdown",
   "id": "62489833",
   "metadata": {},
   "source": [
    "Please pledge for honour code.\n",
    "\n",
    "I,Dubbaka Srikanth, promise that during the course of this assignment\n",
    "I shall not use unethical and nefarious means in an attempt to defraud the sanctity of the assignment \n",
    "and gain an unfair advantage. I will adhere to the virtues of truth and honesty. \n",
    "I will honour the SURE Trust honour code."
   ]
  },
  {
   "cell_type": "code",
   "execution_count": 2,
   "id": "0d49de2b",
   "metadata": {},
   "outputs": [],
   "source": [
    "import pandas as pd\n",
    "import numpy as np\n",
    "import matplotlib.pyplot as plt\n",
    "import seaborn as sns\n",
    "import math"
   ]
  },
  {
   "cell_type": "code",
   "execution_count": 3,
   "id": "0422e0b0",
   "metadata": {},
   "outputs": [],
   "source": [
    "data = pd.read_csv(r'F:\\covid_19.csv')"
   ]
  },
  {
   "cell_type": "markdown",
   "id": "1762e3ed",
   "metadata": {},
   "source": [
    "Data Understanding"
   ]
  },
  {
   "cell_type": "code",
   "execution_count": 4,
   "id": "a9273802",
   "metadata": {},
   "outputs": [
    {
     "data": {
      "text/html": [
       "<div>\n",
       "<style scoped>\n",
       "    .dataframe tbody tr th:only-of-type {\n",
       "        vertical-align: middle;\n",
       "    }\n",
       "\n",
       "    .dataframe tbody tr th {\n",
       "        vertical-align: top;\n",
       "    }\n",
       "\n",
       "    .dataframe thead th {\n",
       "        text-align: right;\n",
       "    }\n",
       "</style>\n",
       "<table border=\"1\" class=\"dataframe\">\n",
       "  <thead>\n",
       "    <tr style=\"text-align: right;\">\n",
       "      <th></th>\n",
       "      <th>Province/State</th>\n",
       "      <th>Country/Region</th>\n",
       "      <th>Lat</th>\n",
       "      <th>Long</th>\n",
       "      <th>Date</th>\n",
       "      <th>Confirmed</th>\n",
       "      <th>Deaths</th>\n",
       "      <th>Recovered</th>\n",
       "      <th>Active</th>\n",
       "      <th>WHO Region</th>\n",
       "    </tr>\n",
       "  </thead>\n",
       "  <tbody>\n",
       "    <tr>\n",
       "      <th>0</th>\n",
       "      <td>NaN</td>\n",
       "      <td>Afghanistan</td>\n",
       "      <td>33.939110</td>\n",
       "      <td>67.709953</td>\n",
       "      <td>2020-01-22</td>\n",
       "      <td>0</td>\n",
       "      <td>0</td>\n",
       "      <td>0</td>\n",
       "      <td>0</td>\n",
       "      <td>Eastern Mediterranean</td>\n",
       "    </tr>\n",
       "    <tr>\n",
       "      <th>1</th>\n",
       "      <td>NaN</td>\n",
       "      <td>Albania</td>\n",
       "      <td>41.153300</td>\n",
       "      <td>20.168300</td>\n",
       "      <td>2020-01-22</td>\n",
       "      <td>0</td>\n",
       "      <td>0</td>\n",
       "      <td>0</td>\n",
       "      <td>0</td>\n",
       "      <td>Europe</td>\n",
       "    </tr>\n",
       "    <tr>\n",
       "      <th>2</th>\n",
       "      <td>NaN</td>\n",
       "      <td>Algeria</td>\n",
       "      <td>28.033900</td>\n",
       "      <td>1.659600</td>\n",
       "      <td>2020-01-22</td>\n",
       "      <td>0</td>\n",
       "      <td>0</td>\n",
       "      <td>0</td>\n",
       "      <td>0</td>\n",
       "      <td>Africa</td>\n",
       "    </tr>\n",
       "    <tr>\n",
       "      <th>3</th>\n",
       "      <td>NaN</td>\n",
       "      <td>Andorra</td>\n",
       "      <td>42.506300</td>\n",
       "      <td>1.521800</td>\n",
       "      <td>2020-01-22</td>\n",
       "      <td>0</td>\n",
       "      <td>0</td>\n",
       "      <td>0</td>\n",
       "      <td>0</td>\n",
       "      <td>Europe</td>\n",
       "    </tr>\n",
       "    <tr>\n",
       "      <th>4</th>\n",
       "      <td>NaN</td>\n",
       "      <td>Angola</td>\n",
       "      <td>-11.202700</td>\n",
       "      <td>17.873900</td>\n",
       "      <td>2020-01-22</td>\n",
       "      <td>0</td>\n",
       "      <td>0</td>\n",
       "      <td>0</td>\n",
       "      <td>0</td>\n",
       "      <td>Africa</td>\n",
       "    </tr>\n",
       "    <tr>\n",
       "      <th>...</th>\n",
       "      <td>...</td>\n",
       "      <td>...</td>\n",
       "      <td>...</td>\n",
       "      <td>...</td>\n",
       "      <td>...</td>\n",
       "      <td>...</td>\n",
       "      <td>...</td>\n",
       "      <td>...</td>\n",
       "      <td>...</td>\n",
       "      <td>...</td>\n",
       "    </tr>\n",
       "    <tr>\n",
       "      <th>49063</th>\n",
       "      <td>NaN</td>\n",
       "      <td>Sao Tome and Principe</td>\n",
       "      <td>0.186400</td>\n",
       "      <td>6.613100</td>\n",
       "      <td>2020-07-27</td>\n",
       "      <td>865</td>\n",
       "      <td>14</td>\n",
       "      <td>734</td>\n",
       "      <td>117</td>\n",
       "      <td>Africa</td>\n",
       "    </tr>\n",
       "    <tr>\n",
       "      <th>49064</th>\n",
       "      <td>NaN</td>\n",
       "      <td>Yemen</td>\n",
       "      <td>15.552727</td>\n",
       "      <td>48.516388</td>\n",
       "      <td>2020-07-27</td>\n",
       "      <td>1691</td>\n",
       "      <td>483</td>\n",
       "      <td>833</td>\n",
       "      <td>375</td>\n",
       "      <td>Eastern Mediterranean</td>\n",
       "    </tr>\n",
       "    <tr>\n",
       "      <th>49065</th>\n",
       "      <td>NaN</td>\n",
       "      <td>Comoros</td>\n",
       "      <td>-11.645500</td>\n",
       "      <td>43.333300</td>\n",
       "      <td>2020-07-27</td>\n",
       "      <td>354</td>\n",
       "      <td>7</td>\n",
       "      <td>328</td>\n",
       "      <td>19</td>\n",
       "      <td>Africa</td>\n",
       "    </tr>\n",
       "    <tr>\n",
       "      <th>49066</th>\n",
       "      <td>NaN</td>\n",
       "      <td>Tajikistan</td>\n",
       "      <td>38.861000</td>\n",
       "      <td>71.276100</td>\n",
       "      <td>2020-07-27</td>\n",
       "      <td>7235</td>\n",
       "      <td>60</td>\n",
       "      <td>6028</td>\n",
       "      <td>1147</td>\n",
       "      <td>Europe</td>\n",
       "    </tr>\n",
       "    <tr>\n",
       "      <th>49067</th>\n",
       "      <td>NaN</td>\n",
       "      <td>Lesotho</td>\n",
       "      <td>-29.610000</td>\n",
       "      <td>28.233600</td>\n",
       "      <td>2020-07-27</td>\n",
       "      <td>505</td>\n",
       "      <td>12</td>\n",
       "      <td>128</td>\n",
       "      <td>365</td>\n",
       "      <td>Africa</td>\n",
       "    </tr>\n",
       "  </tbody>\n",
       "</table>\n",
       "<p>49068 rows × 10 columns</p>\n",
       "</div>"
      ],
      "text/plain": [
       "      Province/State         Country/Region        Lat       Long        Date  \\\n",
       "0                NaN            Afghanistan  33.939110  67.709953  2020-01-22   \n",
       "1                NaN                Albania  41.153300  20.168300  2020-01-22   \n",
       "2                NaN                Algeria  28.033900   1.659600  2020-01-22   \n",
       "3                NaN                Andorra  42.506300   1.521800  2020-01-22   \n",
       "4                NaN                 Angola -11.202700  17.873900  2020-01-22   \n",
       "...              ...                    ...        ...        ...         ...   \n",
       "49063            NaN  Sao Tome and Principe   0.186400   6.613100  2020-07-27   \n",
       "49064            NaN                  Yemen  15.552727  48.516388  2020-07-27   \n",
       "49065            NaN                Comoros -11.645500  43.333300  2020-07-27   \n",
       "49066            NaN             Tajikistan  38.861000  71.276100  2020-07-27   \n",
       "49067            NaN                Lesotho -29.610000  28.233600  2020-07-27   \n",
       "\n",
       "       Confirmed  Deaths  Recovered  Active             WHO Region  \n",
       "0              0       0          0       0  Eastern Mediterranean  \n",
       "1              0       0          0       0                 Europe  \n",
       "2              0       0          0       0                 Africa  \n",
       "3              0       0          0       0                 Europe  \n",
       "4              0       0          0       0                 Africa  \n",
       "...          ...     ...        ...     ...                    ...  \n",
       "49063        865      14        734     117                 Africa  \n",
       "49064       1691     483        833     375  Eastern Mediterranean  \n",
       "49065        354       7        328      19                 Africa  \n",
       "49066       7235      60       6028    1147                 Europe  \n",
       "49067        505      12        128     365                 Africa  \n",
       "\n",
       "[49068 rows x 10 columns]"
      ]
     },
     "execution_count": 4,
     "metadata": {},
     "output_type": "execute_result"
    }
   ],
   "source": [
    "data"
   ]
  },
  {
   "cell_type": "code",
   "execution_count": 5,
   "id": "28ae554f",
   "metadata": {},
   "outputs": [
    {
     "data": {
      "text/plain": [
       "(49068, 10)"
      ]
     },
     "execution_count": 5,
     "metadata": {},
     "output_type": "execute_result"
    }
   ],
   "source": [
    "#1 properties of data. shape, columns\n",
    "data.shape"
   ]
  },
  {
   "cell_type": "code",
   "execution_count": 6,
   "id": "1519b429",
   "metadata": {},
   "outputs": [
    {
     "data": {
      "text/plain": [
       "['Province/State',\n",
       " 'Country/Region',\n",
       " 'Lat',\n",
       " 'Long',\n",
       " 'Date',\n",
       " 'Confirmed',\n",
       " 'Deaths',\n",
       " 'Recovered',\n",
       " 'Active',\n",
       " 'WHO Region']"
      ]
     },
     "execution_count": 6,
     "metadata": {},
     "output_type": "execute_result"
    }
   ],
   "source": [
    "#1 properties of data. shape, columns\n",
    "data.columns.tolist()"
   ]
  },
  {
   "cell_type": "code",
   "execution_count": 7,
   "id": "8ca10cf7",
   "metadata": {},
   "outputs": [
    {
     "name": "stdout",
     "output_type": "stream",
     "text": [
      "<class 'pandas.core.frame.DataFrame'>\n",
      "RangeIndex: 49068 entries, 0 to 49067\n",
      "Data columns (total 10 columns):\n",
      " #   Column          Non-Null Count  Dtype  \n",
      "---  ------          --------------  -----  \n",
      " 0   Province/State  14664 non-null  object \n",
      " 1   Country/Region  49068 non-null  object \n",
      " 2   Lat             49068 non-null  float64\n",
      " 3   Long            49068 non-null  float64\n",
      " 4   Date            49068 non-null  object \n",
      " 5   Confirmed       49068 non-null  int64  \n",
      " 6   Deaths          49068 non-null  int64  \n",
      " 7   Recovered       49068 non-null  int64  \n",
      " 8   Active          49068 non-null  int64  \n",
      " 9   WHO Region      49068 non-null  object \n",
      "dtypes: float64(2), int64(4), object(4)\n",
      "memory usage: 3.7+ MB\n"
     ]
    }
   ],
   "source": [
    "#2 data glipse with info and describe\n",
    "data.info()"
   ]
  },
  {
   "cell_type": "code",
   "execution_count": 8,
   "id": "ae983524",
   "metadata": {},
   "outputs": [
    {
     "data": {
      "text/html": [
       "<div>\n",
       "<style scoped>\n",
       "    .dataframe tbody tr th:only-of-type {\n",
       "        vertical-align: middle;\n",
       "    }\n",
       "\n",
       "    .dataframe tbody tr th {\n",
       "        vertical-align: top;\n",
       "    }\n",
       "\n",
       "    .dataframe thead th {\n",
       "        text-align: right;\n",
       "    }\n",
       "</style>\n",
       "<table border=\"1\" class=\"dataframe\">\n",
       "  <thead>\n",
       "    <tr style=\"text-align: right;\">\n",
       "      <th></th>\n",
       "      <th>Lat</th>\n",
       "      <th>Long</th>\n",
       "      <th>Confirmed</th>\n",
       "      <th>Deaths</th>\n",
       "      <th>Recovered</th>\n",
       "      <th>Active</th>\n",
       "    </tr>\n",
       "  </thead>\n",
       "  <tbody>\n",
       "    <tr>\n",
       "      <th>count</th>\n",
       "      <td>49068.000000</td>\n",
       "      <td>49068.000000</td>\n",
       "      <td>4.906800e+04</td>\n",
       "      <td>49068.000000</td>\n",
       "      <td>4.906800e+04</td>\n",
       "      <td>4.906800e+04</td>\n",
       "    </tr>\n",
       "    <tr>\n",
       "      <th>mean</th>\n",
       "      <td>21.433730</td>\n",
       "      <td>23.528236</td>\n",
       "      <td>1.688490e+04</td>\n",
       "      <td>884.179160</td>\n",
       "      <td>7.915713e+03</td>\n",
       "      <td>8.085012e+03</td>\n",
       "    </tr>\n",
       "    <tr>\n",
       "      <th>std</th>\n",
       "      <td>24.950320</td>\n",
       "      <td>70.442740</td>\n",
       "      <td>1.273002e+05</td>\n",
       "      <td>6313.584411</td>\n",
       "      <td>5.480092e+04</td>\n",
       "      <td>7.625890e+04</td>\n",
       "    </tr>\n",
       "    <tr>\n",
       "      <th>min</th>\n",
       "      <td>-51.796300</td>\n",
       "      <td>-135.000000</td>\n",
       "      <td>0.000000e+00</td>\n",
       "      <td>0.000000</td>\n",
       "      <td>0.000000e+00</td>\n",
       "      <td>-1.400000e+01</td>\n",
       "    </tr>\n",
       "    <tr>\n",
       "      <th>25%</th>\n",
       "      <td>7.873054</td>\n",
       "      <td>-15.310100</td>\n",
       "      <td>4.000000e+00</td>\n",
       "      <td>0.000000</td>\n",
       "      <td>0.000000e+00</td>\n",
       "      <td>0.000000e+00</td>\n",
       "    </tr>\n",
       "    <tr>\n",
       "      <th>50%</th>\n",
       "      <td>23.634500</td>\n",
       "      <td>21.745300</td>\n",
       "      <td>1.680000e+02</td>\n",
       "      <td>2.000000</td>\n",
       "      <td>2.900000e+01</td>\n",
       "      <td>2.600000e+01</td>\n",
       "    </tr>\n",
       "    <tr>\n",
       "      <th>75%</th>\n",
       "      <td>41.204380</td>\n",
       "      <td>80.771797</td>\n",
       "      <td>1.518250e+03</td>\n",
       "      <td>30.000000</td>\n",
       "      <td>6.660000e+02</td>\n",
       "      <td>6.060000e+02</td>\n",
       "    </tr>\n",
       "    <tr>\n",
       "      <th>max</th>\n",
       "      <td>71.706900</td>\n",
       "      <td>178.065000</td>\n",
       "      <td>4.290259e+06</td>\n",
       "      <td>148011.000000</td>\n",
       "      <td>1.846641e+06</td>\n",
       "      <td>2.816444e+06</td>\n",
       "    </tr>\n",
       "  </tbody>\n",
       "</table>\n",
       "</div>"
      ],
      "text/plain": [
       "                Lat          Long     Confirmed         Deaths     Recovered  \\\n",
       "count  49068.000000  49068.000000  4.906800e+04   49068.000000  4.906800e+04   \n",
       "mean      21.433730     23.528236  1.688490e+04     884.179160  7.915713e+03   \n",
       "std       24.950320     70.442740  1.273002e+05    6313.584411  5.480092e+04   \n",
       "min      -51.796300   -135.000000  0.000000e+00       0.000000  0.000000e+00   \n",
       "25%        7.873054    -15.310100  4.000000e+00       0.000000  0.000000e+00   \n",
       "50%       23.634500     21.745300  1.680000e+02       2.000000  2.900000e+01   \n",
       "75%       41.204380     80.771797  1.518250e+03      30.000000  6.660000e+02   \n",
       "max       71.706900    178.065000  4.290259e+06  148011.000000  1.846641e+06   \n",
       "\n",
       "             Active  \n",
       "count  4.906800e+04  \n",
       "mean   8.085012e+03  \n",
       "std    7.625890e+04  \n",
       "min   -1.400000e+01  \n",
       "25%    0.000000e+00  \n",
       "50%    2.600000e+01  \n",
       "75%    6.060000e+02  \n",
       "max    2.816444e+06  "
      ]
     },
     "execution_count": 8,
     "metadata": {},
     "output_type": "execute_result"
    }
   ],
   "source": [
    "#2 data glipse with info and describe\n",
    "data.describe()"
   ]
  },
  {
   "cell_type": "code",
   "execution_count": 9,
   "id": "bdf734cf",
   "metadata": {},
   "outputs": [
    {
     "data": {
      "text/html": [
       "<div>\n",
       "<style scoped>\n",
       "    .dataframe tbody tr th:only-of-type {\n",
       "        vertical-align: middle;\n",
       "    }\n",
       "\n",
       "    .dataframe tbody tr th {\n",
       "        vertical-align: top;\n",
       "    }\n",
       "\n",
       "    .dataframe thead th {\n",
       "        text-align: right;\n",
       "    }\n",
       "</style>\n",
       "<table border=\"1\" class=\"dataframe\">\n",
       "  <thead>\n",
       "    <tr style=\"text-align: right;\">\n",
       "      <th></th>\n",
       "      <th>Country/Region</th>\n",
       "      <th>Date</th>\n",
       "      <th>Confirmed</th>\n",
       "      <th>Deaths</th>\n",
       "      <th>Recovered</th>\n",
       "      <th>Active</th>\n",
       "      <th>WHO Region</th>\n",
       "    </tr>\n",
       "  </thead>\n",
       "  <tbody>\n",
       "    <tr>\n",
       "      <th>0</th>\n",
       "      <td>Afghanistan</td>\n",
       "      <td>2020-01-22</td>\n",
       "      <td>0</td>\n",
       "      <td>0</td>\n",
       "      <td>0</td>\n",
       "      <td>0</td>\n",
       "      <td>Eastern Mediterranean</td>\n",
       "    </tr>\n",
       "    <tr>\n",
       "      <th>1</th>\n",
       "      <td>Albania</td>\n",
       "      <td>2020-01-22</td>\n",
       "      <td>0</td>\n",
       "      <td>0</td>\n",
       "      <td>0</td>\n",
       "      <td>0</td>\n",
       "      <td>Europe</td>\n",
       "    </tr>\n",
       "    <tr>\n",
       "      <th>2</th>\n",
       "      <td>Algeria</td>\n",
       "      <td>2020-01-22</td>\n",
       "      <td>0</td>\n",
       "      <td>0</td>\n",
       "      <td>0</td>\n",
       "      <td>0</td>\n",
       "      <td>Africa</td>\n",
       "    </tr>\n",
       "    <tr>\n",
       "      <th>3</th>\n",
       "      <td>Andorra</td>\n",
       "      <td>2020-01-22</td>\n",
       "      <td>0</td>\n",
       "      <td>0</td>\n",
       "      <td>0</td>\n",
       "      <td>0</td>\n",
       "      <td>Europe</td>\n",
       "    </tr>\n",
       "    <tr>\n",
       "      <th>4</th>\n",
       "      <td>Angola</td>\n",
       "      <td>2020-01-22</td>\n",
       "      <td>0</td>\n",
       "      <td>0</td>\n",
       "      <td>0</td>\n",
       "      <td>0</td>\n",
       "      <td>Africa</td>\n",
       "    </tr>\n",
       "    <tr>\n",
       "      <th>...</th>\n",
       "      <td>...</td>\n",
       "      <td>...</td>\n",
       "      <td>...</td>\n",
       "      <td>...</td>\n",
       "      <td>...</td>\n",
       "      <td>...</td>\n",
       "      <td>...</td>\n",
       "    </tr>\n",
       "    <tr>\n",
       "      <th>49063</th>\n",
       "      <td>Sao Tome and Principe</td>\n",
       "      <td>2020-07-27</td>\n",
       "      <td>865</td>\n",
       "      <td>14</td>\n",
       "      <td>734</td>\n",
       "      <td>117</td>\n",
       "      <td>Africa</td>\n",
       "    </tr>\n",
       "    <tr>\n",
       "      <th>49064</th>\n",
       "      <td>Yemen</td>\n",
       "      <td>2020-07-27</td>\n",
       "      <td>1691</td>\n",
       "      <td>483</td>\n",
       "      <td>833</td>\n",
       "      <td>375</td>\n",
       "      <td>Eastern Mediterranean</td>\n",
       "    </tr>\n",
       "    <tr>\n",
       "      <th>49065</th>\n",
       "      <td>Comoros</td>\n",
       "      <td>2020-07-27</td>\n",
       "      <td>354</td>\n",
       "      <td>7</td>\n",
       "      <td>328</td>\n",
       "      <td>19</td>\n",
       "      <td>Africa</td>\n",
       "    </tr>\n",
       "    <tr>\n",
       "      <th>49066</th>\n",
       "      <td>Tajikistan</td>\n",
       "      <td>2020-07-27</td>\n",
       "      <td>7235</td>\n",
       "      <td>60</td>\n",
       "      <td>6028</td>\n",
       "      <td>1147</td>\n",
       "      <td>Europe</td>\n",
       "    </tr>\n",
       "    <tr>\n",
       "      <th>49067</th>\n",
       "      <td>Lesotho</td>\n",
       "      <td>2020-07-27</td>\n",
       "      <td>505</td>\n",
       "      <td>12</td>\n",
       "      <td>128</td>\n",
       "      <td>365</td>\n",
       "      <td>Africa</td>\n",
       "    </tr>\n",
       "  </tbody>\n",
       "</table>\n",
       "<p>47172 rows × 7 columns</p>\n",
       "</div>"
      ],
      "text/plain": [
       "              Country/Region        Date  Confirmed  Deaths  Recovered  \\\n",
       "0                Afghanistan  2020-01-22          0       0          0   \n",
       "1                    Albania  2020-01-22          0       0          0   \n",
       "2                    Algeria  2020-01-22          0       0          0   \n",
       "3                    Andorra  2020-01-22          0       0          0   \n",
       "4                     Angola  2020-01-22          0       0          0   \n",
       "...                      ...         ...        ...     ...        ...   \n",
       "49063  Sao Tome and Principe  2020-07-27        865      14        734   \n",
       "49064                  Yemen  2020-07-27       1691     483        833   \n",
       "49065                Comoros  2020-07-27        354       7        328   \n",
       "49066             Tajikistan  2020-07-27       7235      60       6028   \n",
       "49067                Lesotho  2020-07-27        505      12        128   \n",
       "\n",
       "       Active             WHO Region  \n",
       "0           0  Eastern Mediterranean  \n",
       "1           0                 Europe  \n",
       "2           0                 Africa  \n",
       "3           0                 Europe  \n",
       "4           0                 Africa  \n",
       "...       ...                    ...  \n",
       "49063     117                 Africa  \n",
       "49064     375  Eastern Mediterranean  \n",
       "49065      19                 Africa  \n",
       "49066    1147                 Europe  \n",
       "49067     365                 Africa  \n",
       "\n",
       "[47172 rows x 7 columns]"
      ]
     },
     "execution_count": 9,
     "metadata": {},
     "output_type": "execute_result"
    }
   ],
   "source": [
    "#(Optional step) Data cleaning if required.\n",
    "pd.set_option('display.max_rows', 180)\n",
    "(data.filter(['Country/Region' ,'Date' ,'Confirmed', 'Deaths','Recovered', 'Active', 'WHO Region' ]).drop_duplicates())"
   ]
  },
  {
   "cell_type": "code",
   "execution_count": 10,
   "id": "6bae9302",
   "metadata": {},
   "outputs": [
    {
     "data": {
      "text/plain": [
       "Province/State    34404\n",
       "Country/Region        0\n",
       "Lat                   0\n",
       "Long                  0\n",
       "Date                  0\n",
       "Confirmed             0\n",
       "Deaths                0\n",
       "Recovered             0\n",
       "Active                0\n",
       "WHO Region            0\n",
       "dtype: int64"
      ]
     },
     "execution_count": 10,
     "metadata": {},
     "output_type": "execute_result"
    }
   ],
   "source": [
    "(data\n",
    " .isnull()\n",
    " .sum()\n",
    ")"
   ]
  },
  {
   "cell_type": "code",
   "execution_count": 11,
   "id": "e44ab802",
   "metadata": {},
   "outputs": [
    {
     "data": {
      "text/html": [
       "<div>\n",
       "<style scoped>\n",
       "    .dataframe tbody tr th:only-of-type {\n",
       "        vertical-align: middle;\n",
       "    }\n",
       "\n",
       "    .dataframe tbody tr th {\n",
       "        vertical-align: top;\n",
       "    }\n",
       "\n",
       "    .dataframe thead th {\n",
       "        text-align: right;\n",
       "    }\n",
       "</style>\n",
       "<table border=\"1\" class=\"dataframe\">\n",
       "  <thead>\n",
       "    <tr style=\"text-align: right;\">\n",
       "      <th></th>\n",
       "      <th>Country/Region</th>\n",
       "    </tr>\n",
       "  </thead>\n",
       "  <tbody>\n",
       "    <tr>\n",
       "      <th>2410</th>\n",
       "      <td>China</td>\n",
       "    </tr>\n",
       "  </tbody>\n",
       "</table>\n",
       "</div>"
      ],
      "text/plain": [
       "     Country/Region\n",
       "2410          China"
      ]
     },
     "execution_count": 11,
     "metadata": {},
     "output_type": "execute_result"
    }
   ],
   "source": [
    "#3 which country had highest covid DEATHS in january 2020.\n",
    "df=data[(data.Date>='2020-01-01') & (data.Date<='2020-01-31')]\n",
    "df[df.Deaths==df.Deaths.max()][['Country/Region']]"
   ]
  },
  {
   "cell_type": "code",
   "execution_count": 12,
   "id": "c4ef23f4",
   "metadata": {},
   "outputs": [
    {
     "data": {
      "text/html": [
       "<div>\n",
       "<style scoped>\n",
       "    .dataframe tbody tr th:only-of-type {\n",
       "        vertical-align: middle;\n",
       "    }\n",
       "\n",
       "    .dataframe tbody tr th {\n",
       "        vertical-align: top;\n",
       "    }\n",
       "\n",
       "    .dataframe thead th {\n",
       "        text-align: right;\n",
       "    }\n",
       "</style>\n",
       "<table border=\"1\" class=\"dataframe\">\n",
       "  <thead>\n",
       "    <tr style=\"text-align: right;\">\n",
       "      <th></th>\n",
       "      <th>WHO Region</th>\n",
       "    </tr>\n",
       "  </thead>\n",
       "  <tbody>\n",
       "    <tr>\n",
       "      <th>18232</th>\n",
       "      <td>Americas</td>\n",
       "    </tr>\n",
       "  </tbody>\n",
       "</table>\n",
       "</div>"
      ],
      "text/plain": [
       "      WHO Region\n",
       "18232   Americas"
      ]
     },
     "execution_count": 12,
     "metadata": {},
     "output_type": "execute_result"
    }
   ],
   "source": [
    "#4 which WHO region had highest ACTIVE covid cases in March 2020.\n",
    "dx=data[(data.Date>='2020-03-01') & (data.Date<='2020-03-31')]\n",
    "dx[dx.Active==dx.Active.max()][['WHO Region']]"
   ]
  },
  {
   "cell_type": "code",
   "execution_count": 13,
   "id": "a39ac67b",
   "metadata": {},
   "outputs": [
    {
     "name": "stdout",
     "output_type": "stream",
     "text": [
      "             Country/Region\n",
      "2605  Sao Tome and Principe\n",
      "2606                  Yemen\n",
      "2607                Comoros\n",
      "2608             Tajikistan\n",
      "2609                Lesotho\n",
      "              Country/Region\n",
      "10174  Sao Tome and Principe\n",
      "10175                  Yemen\n",
      "10176                Comoros\n",
      "10177             Tajikistan\n",
      "10178                Lesotho\n",
      "              Country/Region\n",
      "18265  Sao Tome and Principe\n",
      "18266                  Yemen\n",
      "18267                Comoros\n",
      "18268             Tajikistan\n",
      "18269                Lesotho\n",
      "              Country/Region\n",
      "26095  Sao Tome and Principe\n",
      "26096                  Yemen\n",
      "26097                Comoros\n",
      "26098             Tajikistan\n",
      "26099                Lesotho\n",
      "              Country/Region\n",
      "34186  Sao Tome and Principe\n",
      "34187                  Yemen\n",
      "34188                Comoros\n",
      "34189             Tajikistan\n",
      "34190                Lesotho\n"
     ]
    }
   ],
   "source": [
    "#5 print top 5 countries with highest CONFIRMED covid cases. Print month wise.\n",
    "\"\"\"dp=data.loc[data[\"Date\"]==\"2020-03-22\"].sort_values(by='Confirmed',ascending=False)\n",
    "dp.head(10)\"\"\"\n",
    "for i in range(1,6):\n",
    "    i=str(i)\n",
    "    m=data[(data.Date>='2020-0'+i+'-01') & (data.Date<='2020-0'+i+'-31')]\n",
    "    m.sort_values('Confirmed')\n",
    "    print(m[-5:][['Country/Region']])"
   ]
  },
  {
   "cell_type": "code",
   "execution_count": 14,
   "id": "6e45deb2",
   "metadata": {},
   "outputs": [
    {
     "name": "stdout",
     "output_type": "stream",
     "text": [
      "     Country/Region\n",
      "2607        Comoros\n",
      "2608     Tajikistan\n",
      "2609        Lesotho\n",
      "      Country/Region\n",
      "10176        Comoros\n",
      "10177     Tajikistan\n",
      "10178        Lesotho\n",
      "      Country/Region\n",
      "18267        Comoros\n",
      "18268     Tajikistan\n",
      "18269        Lesotho\n",
      "      Country/Region\n",
      "26097        Comoros\n",
      "26098     Tajikistan\n",
      "26099        Lesotho\n",
      "      Country/Region\n",
      "34188        Comoros\n",
      "34189     Tajikistan\n",
      "34190        Lesotho\n",
      "      Country/Region\n",
      "42018        Comoros\n",
      "42019     Tajikistan\n",
      "42020        Lesotho\n",
      "      Country/Region\n",
      "49065        Comoros\n",
      "49066     Tajikistan\n",
      "49067        Lesotho\n",
      "Empty DataFrame\n",
      "Columns: [Country/Region]\n",
      "Index: []\n",
      "Empty DataFrame\n",
      "Columns: [Country/Region]\n",
      "Index: []\n",
      "Empty DataFrame\n",
      "Columns: [Country/Region]\n",
      "Index: []\n",
      "Empty DataFrame\n",
      "Columns: [Country/Region]\n",
      "Index: []\n"
     ]
    }
   ],
   "source": [
    "#6 top 3 countries with highest DEATH covid cases print month wise.\n",
    "\"\"\"dp=data.loc[data[\"Date\"]==\"2020-02-22\"].sort_values(by='Deaths',ascending=False)\n",
    "dp.head(3)\"\"\"\n",
    "for i in range(1,12):\n",
    "    i=str(i)\n",
    "    o=data[(data.Date>='2020-0'+i+'-01') & (data.Date<='2020-0'+i+'-31')]\n",
    "    o.sort_values('Deaths')\n",
    "    print(o[-3:][[\"Country/Region\"]])"
   ]
  },
  {
   "cell_type": "code",
   "execution_count": 15,
   "id": "707c3d66",
   "metadata": {},
   "outputs": [
    {
     "name": "stdout",
     "output_type": "stream",
     "text": [
      "[['Malawi']\n",
      " ['United Kingdom']\n",
      " ['France']\n",
      " ['South Sudan']\n",
      " ['Western Sahara']\n",
      " ['Sao Tome and Principe']\n",
      " ['Yemen']\n",
      " ['Comoros']\n",
      " ['Tajikistan']\n",
      " ['Lesotho']]\n",
      "[['Malawi']\n",
      " ['United Kingdom']\n",
      " ['France']\n",
      " ['South Sudan']\n",
      " ['Western Sahara']\n",
      " ['Sao Tome and Principe']\n",
      " ['Yemen']\n",
      " ['Comoros']\n",
      " ['Tajikistan']\n",
      " ['Lesotho']]\n",
      "[['Malawi']\n",
      " ['United Kingdom']\n",
      " ['France']\n",
      " ['South Sudan']\n",
      " ['Western Sahara']\n",
      " ['Sao Tome and Principe']\n",
      " ['Yemen']\n",
      " ['Comoros']\n",
      " ['Tajikistan']\n",
      " ['Lesotho']]\n",
      "[['Malawi']\n",
      " ['United Kingdom']\n",
      " ['France']\n",
      " ['South Sudan']\n",
      " ['Western Sahara']\n",
      " ['Sao Tome and Principe']\n",
      " ['Yemen']\n",
      " ['Comoros']\n",
      " ['Tajikistan']\n",
      " ['Lesotho']]\n",
      "[['Malawi']\n",
      " ['United Kingdom']\n",
      " ['France']\n",
      " ['South Sudan']\n",
      " ['Western Sahara']\n",
      " ['Sao Tome and Principe']\n",
      " ['Yemen']\n",
      " ['Comoros']\n",
      " ['Tajikistan']\n",
      " ['Lesotho']]\n"
     ]
    }
   ],
   "source": [
    "#7 print countries which are amongst top 10 with highest CONFIRMED cases \n",
    "# for 3 months consecutively. \n",
    "\"\"\"p=[]\n",
    "for i in range(1,8):\n",
    "    i=str(i)\n",
    "    q=data[(data.Date>='2022-0'+i+'-01')&(data.Date>='2022-0'+i+'-31')]\n",
    "    q.sort_values('Confirmed')\n",
    "    p.append(q[-10:][['Country/Region']].values)\n",
    "for i in range(5):\n",
    "    print(p[i][np.in1d(p[i],p[i+1],p[i+2])])\"\"\"\n",
    "p=[]\n",
    "for i in range(1,8):\n",
    " i=str(i)\n",
    " q=data[(data.Date>='2020-0'+i+'-01') & (data.Date<='2020-0'+i+'-31')]\n",
    " q.sort_values('Confirmed')\n",
    " p.append(q[-10:][['Country/Region']].values)\n",
    "for i in range(5):\n",
    " print( p[i][np.in1d(p[i],p[i+1],p[i+2])] )"
   ]
  },
  {
   "cell_type": "code",
   "execution_count": 16,
   "id": "df9faaa2",
   "metadata": {},
   "outputs": [
    {
     "data": {
      "text/plain": [
       "55118365"
      ]
     },
     "execution_count": 16,
     "metadata": {},
     "output_type": "execute_result"
    }
   ],
   "source": [
    "#8 how many total CONFIRMED cases in Asia as per dataset\n",
    "a=data[data['WHO Region']=='South-East Asia'].Confirmed.sum()\n",
    "a"
   ]
  },
  {
   "cell_type": "code",
   "execution_count": 17,
   "id": "53c8cbe7",
   "metadata": {},
   "outputs": [
    {
     "data": {
      "text/html": [
       "<div>\n",
       "<style scoped>\n",
       "    .dataframe tbody tr th:only-of-type {\n",
       "        vertical-align: middle;\n",
       "    }\n",
       "\n",
       "    .dataframe tbody tr th {\n",
       "        vertical-align: top;\n",
       "    }\n",
       "\n",
       "    .dataframe thead th {\n",
       "        text-align: right;\n",
       "    }\n",
       "</style>\n",
       "<table border=\"1\" class=\"dataframe\">\n",
       "  <thead>\n",
       "    <tr style=\"text-align: right;\">\n",
       "      <th></th>\n",
       "      <th>Province/State</th>\n",
       "      <th>Country/Region</th>\n",
       "      <th>Lat</th>\n",
       "      <th>Long</th>\n",
       "      <th>Date</th>\n",
       "      <th>Confirmed</th>\n",
       "      <th>Deaths</th>\n",
       "      <th>Recovered</th>\n",
       "      <th>Active</th>\n",
       "      <th>WHO Region</th>\n",
       "    </tr>\n",
       "  </thead>\n",
       "  <tbody>\n",
       "    <tr>\n",
       "      <th>49030</th>\n",
       "      <td>NaN</td>\n",
       "      <td>US</td>\n",
       "      <td>40.0</td>\n",
       "      <td>-100.0</td>\n",
       "      <td>2020-07-27</td>\n",
       "      <td>4290259</td>\n",
       "      <td>148011</td>\n",
       "      <td>1325804</td>\n",
       "      <td>2816444</td>\n",
       "      <td>Americas</td>\n",
       "    </tr>\n",
       "  </tbody>\n",
       "</table>\n",
       "</div>"
      ],
      "text/plain": [
       "      Province/State Country/Region   Lat   Long        Date  Confirmed  \\\n",
       "49030            NaN             US  40.0 -100.0  2020-07-27    4290259   \n",
       "\n",
       "       Deaths  Recovered   Active WHO Region  \n",
       "49030  148011    1325804  2816444   Americas  "
      ]
     },
     "execution_count": 17,
     "metadata": {},
     "output_type": "execute_result"
    }
   ],
   "source": [
    "#9 Which WHO region have highest DEATHS?\n",
    "p=data.sort_values(by='Deaths',ascending=False)\n",
    "p.head(1)"
   ]
  },
  {
   "cell_type": "code",
   "execution_count": 18,
   "id": "ec6be351",
   "metadata": {},
   "outputs": [
    {
     "data": {
      "text/html": [
       "<div>\n",
       "<style scoped>\n",
       "    .dataframe tbody tr th:only-of-type {\n",
       "        vertical-align: middle;\n",
       "    }\n",
       "\n",
       "    .dataframe tbody tr th {\n",
       "        vertical-align: top;\n",
       "    }\n",
       "\n",
       "    .dataframe thead th {\n",
       "        text-align: right;\n",
       "    }\n",
       "</style>\n",
       "<table border=\"1\" class=\"dataframe\">\n",
       "  <thead>\n",
       "    <tr style=\"text-align: right;\">\n",
       "      <th></th>\n",
       "      <th>Province/State</th>\n",
       "      <th>Country/Region</th>\n",
       "      <th>Lat</th>\n",
       "      <th>Long</th>\n",
       "      <th>Date</th>\n",
       "      <th>Confirmed</th>\n",
       "      <th>Deaths</th>\n",
       "      <th>Recovered</th>\n",
       "      <th>Active</th>\n",
       "      <th>WHO Region</th>\n",
       "    </tr>\n",
       "  </thead>\n",
       "  <tbody>\n",
       "    <tr>\n",
       "      <th>0</th>\n",
       "      <td>NaN</td>\n",
       "      <td>Afghanistan</td>\n",
       "      <td>33.939110</td>\n",
       "      <td>67.709953</td>\n",
       "      <td>2020-01-22</td>\n",
       "      <td>0</td>\n",
       "      <td>0</td>\n",
       "      <td>0</td>\n",
       "      <td>0</td>\n",
       "      <td>Eastern Mediterranean</td>\n",
       "    </tr>\n",
       "    <tr>\n",
       "      <th>14989</th>\n",
       "      <td>St Martin</td>\n",
       "      <td>France</td>\n",
       "      <td>18.070800</td>\n",
       "      <td>-63.050100</td>\n",
       "      <td>2020-03-19</td>\n",
       "      <td>4</td>\n",
       "      <td>0</td>\n",
       "      <td>0</td>\n",
       "      <td>4</td>\n",
       "      <td>Europe</td>\n",
       "    </tr>\n",
       "    <tr>\n",
       "      <th>14988</th>\n",
       "      <td>Saint Barthelemy</td>\n",
       "      <td>France</td>\n",
       "      <td>17.900000</td>\n",
       "      <td>-62.833300</td>\n",
       "      <td>2020-03-19</td>\n",
       "      <td>3</td>\n",
       "      <td>0</td>\n",
       "      <td>0</td>\n",
       "      <td>3</td>\n",
       "      <td>Europe</td>\n",
       "    </tr>\n",
       "    <tr>\n",
       "      <th>14987</th>\n",
       "      <td>Reunion</td>\n",
       "      <td>France</td>\n",
       "      <td>-21.115100</td>\n",
       "      <td>55.536400</td>\n",
       "      <td>2020-03-19</td>\n",
       "      <td>14</td>\n",
       "      <td>0</td>\n",
       "      <td>0</td>\n",
       "      <td>14</td>\n",
       "      <td>Europe</td>\n",
       "    </tr>\n",
       "    <tr>\n",
       "      <th>14986</th>\n",
       "      <td>New Caledonia</td>\n",
       "      <td>France</td>\n",
       "      <td>-20.904305</td>\n",
       "      <td>165.618042</td>\n",
       "      <td>2020-03-19</td>\n",
       "      <td>2</td>\n",
       "      <td>0</td>\n",
       "      <td>0</td>\n",
       "      <td>2</td>\n",
       "      <td>Europe</td>\n",
       "    </tr>\n",
       "    <tr>\n",
       "      <th>14985</th>\n",
       "      <td>Mayotte</td>\n",
       "      <td>France</td>\n",
       "      <td>-12.827500</td>\n",
       "      <td>45.166244</td>\n",
       "      <td>2020-03-19</td>\n",
       "      <td>3</td>\n",
       "      <td>0</td>\n",
       "      <td>0</td>\n",
       "      <td>3</td>\n",
       "      <td>Europe</td>\n",
       "    </tr>\n",
       "    <tr>\n",
       "      <th>14984</th>\n",
       "      <td>Guadeloupe</td>\n",
       "      <td>France</td>\n",
       "      <td>16.265000</td>\n",
       "      <td>-61.551000</td>\n",
       "      <td>2020-03-19</td>\n",
       "      <td>33</td>\n",
       "      <td>0</td>\n",
       "      <td>0</td>\n",
       "      <td>33</td>\n",
       "      <td>Europe</td>\n",
       "    </tr>\n",
       "    <tr>\n",
       "      <th>14983</th>\n",
       "      <td>French Polynesia</td>\n",
       "      <td>France</td>\n",
       "      <td>-17.679700</td>\n",
       "      <td>149.406800</td>\n",
       "      <td>2020-03-19</td>\n",
       "      <td>6</td>\n",
       "      <td>0</td>\n",
       "      <td>0</td>\n",
       "      <td>6</td>\n",
       "      <td>Europe</td>\n",
       "    </tr>\n",
       "    <tr>\n",
       "      <th>14992</th>\n",
       "      <td>NaN</td>\n",
       "      <td>Gabon</td>\n",
       "      <td>-0.803700</td>\n",
       "      <td>11.609400</td>\n",
       "      <td>2020-03-19</td>\n",
       "      <td>1</td>\n",
       "      <td>0</td>\n",
       "      <td>0</td>\n",
       "      <td>1</td>\n",
       "      <td>Africa</td>\n",
       "    </tr>\n",
       "    <tr>\n",
       "      <th>14982</th>\n",
       "      <td>French Guiana</td>\n",
       "      <td>France</td>\n",
       "      <td>3.933900</td>\n",
       "      <td>-53.125800</td>\n",
       "      <td>2020-03-19</td>\n",
       "      <td>11</td>\n",
       "      <td>0</td>\n",
       "      <td>0</td>\n",
       "      <td>11</td>\n",
       "      <td>Europe</td>\n",
       "    </tr>\n",
       "  </tbody>\n",
       "</table>\n",
       "</div>"
      ],
      "text/plain": [
       "         Province/State Country/Region        Lat        Long        Date  \\\n",
       "0                   NaN    Afghanistan  33.939110   67.709953  2020-01-22   \n",
       "14989         St Martin         France  18.070800  -63.050100  2020-03-19   \n",
       "14988  Saint Barthelemy         France  17.900000  -62.833300  2020-03-19   \n",
       "14987           Reunion         France -21.115100   55.536400  2020-03-19   \n",
       "14986     New Caledonia         France -20.904305  165.618042  2020-03-19   \n",
       "14985           Mayotte         France -12.827500   45.166244  2020-03-19   \n",
       "14984        Guadeloupe         France  16.265000  -61.551000  2020-03-19   \n",
       "14983  French Polynesia         France -17.679700  149.406800  2020-03-19   \n",
       "14992               NaN          Gabon  -0.803700   11.609400  2020-03-19   \n",
       "14982     French Guiana         France   3.933900  -53.125800  2020-03-19   \n",
       "\n",
       "       Confirmed  Deaths  Recovered  Active             WHO Region  \n",
       "0              0       0          0       0  Eastern Mediterranean  \n",
       "14989          4       0          0       4                 Europe  \n",
       "14988          3       0          0       3                 Europe  \n",
       "14987         14       0          0      14                 Europe  \n",
       "14986          2       0          0       2                 Europe  \n",
       "14985          3       0          0       3                 Europe  \n",
       "14984         33       0          0      33                 Europe  \n",
       "14983          6       0          0       6                 Europe  \n",
       "14992          1       0          0       1                 Africa  \n",
       "14982         11       0          0      11                 Europe  "
      ]
     },
     "execution_count": 18,
     "metadata": {},
     "output_type": "execute_result"
    }
   ],
   "source": [
    "#10 print top 10 contries with LOWEST CONFIRMED:DEATH ratio print month wise.\n",
    "p=data.sort_values(by='Deaths',ascending=True)\n",
    "p.head(10)"
   ]
  },
  {
   "cell_type": "code",
   "execution_count": 19,
   "id": "dfb03812",
   "metadata": {},
   "outputs": [
    {
     "data": {
      "text/plain": [
       "0.4709724860053174"
      ]
     },
     "execution_count": 19,
     "metadata": {},
     "output_type": "execute_result"
    }
   ],
   "source": [
    "#11 print India's CONFIRMED:RECOVERED cases ratio in the month of March\n",
    "ab=data[(data.Date>='2020-03-01')& (data.Date>='2020-03-31')]\n",
    "ab.Recovered.sum()/ab.Confirmed.sum()"
   ]
  },
  {
   "cell_type": "code",
   "execution_count": 20,
   "id": "9f9db4af",
   "metadata": {
    "scrolled": true
   },
   "outputs": [
    {
     "data": {
      "image/png": "[encoded data removed]",
      "text/plain": [
       "<Figure size 432x288 with 1 Axes>"
      ]
     },
     "metadata": {
      "needs_background": "light"
     },
     "output_type": "display_data"
    }
   ],
   "source": [
    "#12 which month have highest active cases in USA.\n",
    "plt.bar(data['Country/Region']=='US', data['Active'], color='blue')\n",
    "plt.show()"
   ]
  },
  {
   "cell_type": "code",
   "execution_count": 22,
   "id": "9401af03",
   "metadata": {},
   "outputs": [
    {
     "name": "stdout",
     "output_type": "stream",
     "text": [
      "                            Lat   Long  Confirmed  Deaths  Recovered   Active\n",
      "Country/Region Date                                                          \n",
      "US             2020-07-27  40.0 -100.0    4290259  148011    1325804  2816444\n"
     ]
    }
   ],
   "source": [
    "#12 which month have highest active cases in USA.\n",
    "highest_active_cases=data.groupby(['Country/Region','Date']).sum(\"Active\")\n",
    "print(highest_active_cases.sort_values(by=\"Active\",ascending=False).head(1))"
   ]
  },
  {
   "cell_type": "raw",
   "id": "0e418a8c",
   "metadata": {},
   "source": [
    "EDA & Visualization\n",
    "You have to follow the below steps. You can show creativity but document every step\n",
    "Univariate Analysis\n",
    "\n",
    "Categorical\n",
    "value count\n",
    "top unique values\n",
    "bar plot\n",
    "Numerical\n",
    "Distribution plot or line plot\n",
    "statistical info about column ( 3m, Std dev)\n",
    "find type of distribution\n",
    "Bivarite Analysis\n",
    "\n",
    "Numerical - Numerical\n",
    "Pairplot for all the numeric variables\n",
    "heatmap of correlations\n",
    "Categorcal - categorical\n",
    "value_counts comparsion\n",
    "categorical - numerical\n",
    "category wise sum,mean\n",
    "timeline + numerical line plot\n",
    "Moving averages\n",
    "\n",
    "create new columns for numerical data with moving averages.\n",
    "plot a line graph against timeline, Moving averages will tell you the upcoming trend.\n",
    "use df.window(size=x) look for documentation on pandas official site page"
   ]
  },
  {
   "cell_type": "code",
   "execution_count": 122,
   "id": "e5c06e05",
   "metadata": {},
   "outputs": [
    {
     "data": {
      "text/plain": [
       "<function matplotlib.pyplot.show(close=None, block=None)>"
      ]
     },
     "execution_count": 122,
     "metadata": {},
     "output_type": "execute_result"
    },
    {
     "data": {
      "image/png": "[encoded data removed]",
      "text/plain": [
       "<Figure size 432x288 with 2 Axes>"
      ]
     },
     "metadata": {
      "needs_background": "light"
     },
     "output_type": "display_data"
    }
   ],
   "source": [
    "sns.heatmap(data[data['Country/Region']=='India'][['Confirmed','Active','Recovered','Deaths']])\n",
    "plt.show"
   ]
  },
  {
   "cell_type": "code",
   "execution_count": 107,
   "id": "8bab7bfd",
   "metadata": {},
   "outputs": [
    {
     "data": {
      "text/plain": [
       "<BarContainer object of 187 artists>"
      ]
     },
     "execution_count": 107,
     "metadata": {},
     "output_type": "execute_result"
    },
    {
     "data": {
      "image/png": "[encoded data removed]",
      "text/plain": [
       "<Figure size 432x288 with 1 Axes>"
      ]
     },
     "metadata": {
      "needs_background": "light"
     },
     "output_type": "display_data"
    }
   ],
   "source": [
    "dx ={i:j.Deaths.sum() for i,j in data.groupby('Country/Region')}\n",
    "plt.bar(dx.keys(),dx.values())"
   ]
  },
  {
   "cell_type": "code",
   "execution_count": 91,
   "id": "382b9417",
   "metadata": {},
   "outputs": [
    {
     "data": {
      "image/png": "[encoded data removed]",
      "text/plain": [
       "<Figure size 432x288 with 1 Axes>"
      ]
     },
     "metadata": {},
     "output_type": "display_data"
    }
   ],
   "source": [
    "# create as many cells as required to do EDA and visulization. show your creativity.\n",
    "c=data['WHO Region'].value_counts().to_dict()\n",
    "#plt.title('WHO Region')\n",
    "plt.title('Creating cells in WHO Region')\n",
    "plt.pie(c.values(),labels=c.keys(),explode=[0.1]*6)\n",
    "plt.show()"
   ]
  },
  {
   "cell_type": "code",
   "execution_count": 112,
   "id": "76367cee",
   "metadata": {},
   "outputs": [
    {
     "data": {
      "text/plain": [
       "[<matplotlib.lines.Line2D at 0x20f3b393d30>]"
      ]
     },
     "execution_count": 112,
     "metadata": {},
     "output_type": "execute_result"
    },
    {
     "data": {
      "image/png": "[encoded data removed]",
      "text/plain": [
       "<Figure size 432x288 with 1 Axes>"
      ]
     },
     "metadata": {
      "needs_background": "light"
     },
     "output_type": "display_data"
    }
   ],
   "source": [
    "pt=data[data['Country/Region']=='France']\n",
    "plt.plot(pt.Date, pt.Deaths)"
   ]
  },
  {
   "cell_type": "code",
   "execution_count": 113,
   "id": "fd1f2463",
   "metadata": {},
   "outputs": [
    {
     "data": {
      "text/plain": [
       "[<matplotlib.lines.Line2D at 0x20f3b5e4fa0>]"
      ]
     },
     "execution_count": 113,
     "metadata": {},
     "output_type": "execute_result"
    },
    {
     "data": {
      "image/png": "[encoded data removed]",
      "text/plain": [
       "<Figure size 432x288 with 1 Axes>"
      ]
     },
     "metadata": {
      "needs_background": "light"
     },
     "output_type": "display_data"
    }
   ],
   "source": [
    "pt=data[data['Country/Region']=='Gabon']\n",
    "plt.plot(pt.Date, pt.Deaths)"
   ]
  },
  {
   "cell_type": "code",
   "execution_count": 114,
   "id": "20975a3b",
   "metadata": {},
   "outputs": [
    {
     "data": {
      "text/plain": [
       "[<matplotlib.lines.Line2D at 0x20f39224490>]"
      ]
     },
     "execution_count": 114,
     "metadata": {},
     "output_type": "execute_result"
    },
    {
     "data": {
      "image/png": "[encoded data removed]",
      "text/plain": [
       "<Figure size 432x288 with 1 Axes>"
      ]
     },
     "metadata": {
      "needs_background": "light"
     },
     "output_type": "display_data"
    }
   ],
   "source": [
    "pt=data[data['Country/Region']=='United Kingdom']\n",
    "plt.plot(pt.Date, pt.Deaths)"
   ]
  },
  {
   "cell_type": "code",
   "execution_count": 115,
   "id": "0473ad16",
   "metadata": {},
   "outputs": [
    {
     "data": {
      "text/plain": [
       "[<matplotlib.lines.Line2D at 0x20f390c4eb0>]"
      ]
     },
     "execution_count": 115,
     "metadata": {},
     "output_type": "execute_result"
    },
    {
     "data": {
      "image/png": "[encoded data removed]",
      "text/plain": [
       "<Figure size 432x288 with 1 Axes>"
      ]
     },
     "metadata": {
      "needs_background": "light"
     },
     "output_type": "display_data"
    }
   ],
   "source": [
    "pt=data[data['Country/Region']=='Yemen']\n",
    "plt.plot(pt.Date, pt.Deaths)"
   ]
  },
  {
   "cell_type": "code",
   "execution_count": 116,
   "id": "32deccbf",
   "metadata": {},
   "outputs": [
    {
     "data": {
      "text/plain": [
       "[<matplotlib.lines.Line2D at 0x20f3b8d79d0>]"
      ]
     },
     "execution_count": 116,
     "metadata": {},
     "output_type": "execute_result"
    },
    {
     "data": {
      "image/png": "[encoded data removed]",
      "text/plain": [
       "<Figure size 432x288 with 1 Axes>"
      ]
     },
     "metadata": {
      "needs_background": "light"
     },
     "output_type": "display_data"
    }
   ],
   "source": [
    "pt=data[data['Country/Region']=='Tajikistan']\n",
    "plt.plot(pt.Date, pt.Deaths)"
   ]
  },
  {
   "cell_type": "code",
   "execution_count": 108,
   "id": "1fb5b67e",
   "metadata": {},
   "outputs": [
    {
     "data": {
      "text/plain": [
       "[<matplotlib.lines.Line2D at 0x20f39c1ca60>]"
      ]
     },
     "execution_count": 108,
     "metadata": {},
     "output_type": "execute_result"
    },
    {
     "data": {
      "image/png": "[encoded data removed]",
      "text/plain": [
       "<Figure size 432x288 with 1 Axes>"
      ]
     },
     "metadata": {
      "needs_background": "light"
     },
     "output_type": "display_data"
    }
   ],
   "source": [
    "pt=data[data['Country/Region']=='India']\n",
    "plt.plot(pt.Date, pt.Deaths)"
   ]
  },
  {
   "cell_type": "code",
   "execution_count": 110,
   "id": "ddd57d2e",
   "metadata": {},
   "outputs": [
    {
     "data": {
      "text/plain": [
       "[<matplotlib.lines.Line2D at 0x20f3a1206a0>]"
      ]
     },
     "execution_count": 110,
     "metadata": {},
     "output_type": "execute_result"
    },
    {
     "data": {
      "image/png": "[encoded data removed]",
      "text/plain": [
       "<Figure size 432x288 with 1 Axes>"
      ]
     },
     "metadata": {
      "needs_background": "light"
     },
     "output_type": "display_data"
    }
   ],
   "source": [
    "pt=data[data['Country/Region']=='Afghanistan']\n",
    "plt.plot(pt.Date, pt.Deaths)"
   ]
  },
  {
   "cell_type": "code",
   "execution_count": 117,
   "id": "0ee6d803",
   "metadata": {},
   "outputs": [
    {
     "data": {
      "text/plain": [
       "<function matplotlib.pyplot.show(close=None, block=None)>"
      ]
     },
     "execution_count": 117,
     "metadata": {},
     "output_type": "execute_result"
    },
    {
     "data": {
      "image/png": "[encoded data removed]",
      "text/plain": [
       "<Figure size 360x360 with 6 Axes>"
      ]
     },
     "metadata": {
      "needs_background": "light"
     },
     "output_type": "display_data"
    }
   ],
   "source": [
    "sns.pairplot(data[data['Country/Region']=='India'][['Deaths', 'Recovered']])\n",
    "plt.show"
   ]
  },
  {
   "cell_type": "code",
   "execution_count": 125,
   "id": "09d4bc66",
   "metadata": {},
   "outputs": [
    {
     "data": {
      "text/plain": [
       "<function matplotlib.pyplot.show(close=None, block=None)>"
      ]
     },
     "execution_count": 125,
     "metadata": {},
     "output_type": "execute_result"
    },
    {
     "data": {
      "image/png": "[encoded data removed]",
      "text/plain": [
       "<Figure size 360x360 with 6 Axes>"
      ]
     },
     "metadata": {
      "needs_background": "light"
     },
     "output_type": "display_data"
    }
   ],
   "source": [
    "sns.pairplot(data[data['Country/Region']=='India'][['Deaths', 'Active']])\n",
    "plt.show"
   ]
  },
  {
   "cell_type": "code",
   "execution_count": 118,
   "id": "3ca464ff",
   "metadata": {},
   "outputs": [
    {
     "data": {
      "text/plain": [
       "<function matplotlib.pyplot.show(close=None, block=None)>"
      ]
     },
     "execution_count": 118,
     "metadata": {},
     "output_type": "execute_result"
    },
    {
     "data": {
      "image/png": "[encoded data removed]",
      "text/plain": [
       "<Figure size 360x360 with 6 Axes>"
      ]
     },
     "metadata": {
      "needs_background": "light"
     },
     "output_type": "display_data"
    }
   ],
   "source": [
    "sns.pairplot(data[data['Country/Region']=='France'][['Deaths', 'Recovered']])\n",
    "plt.show"
   ]
  },
  {
   "cell_type": "code",
   "execution_count": 119,
   "id": "bcb662ea",
   "metadata": {},
   "outputs": [
    {
     "data": {
      "text/plain": [
       "<function matplotlib.pyplot.show(close=None, block=None)>"
      ]
     },
     "execution_count": 119,
     "metadata": {},
     "output_type": "execute_result"
    },
    {
     "data": {
      "image/png": "[encoded data removed]",
      "text/plain": [
       "<Figure size 360x360 with 6 Axes>"
      ]
     },
     "metadata": {
      "needs_background": "light"
     },
     "output_type": "display_data"
    }
   ],
   "source": [
    "sns.pairplot(data[data['Country/Region']=='United Kingdom'][['Deaths', 'Recovered']])\n",
    "plt.show"
   ]
  },
  {
   "cell_type": "markdown",
   "id": "985461f6",
   "metadata": {},
   "source": [
    "Statistics"
   ]
  },
  {
   "cell_type": "code",
   "execution_count": 99,
   "id": "13b2cb2b",
   "metadata": {},
   "outputs": [
    {
     "data": {
      "text/plain": [
       "8976.169694119606"
      ]
     },
     "execution_count": 99,
     "metadata": {},
     "output_type": "execute_result"
    }
   ],
   "source": [
    "#13 write a function to calculate standard deviation. (don't use builtin methods)\n",
    "dx=data[data['Country/Region']=='India'].Deaths\n",
    "np.sqrt(sum((dx-dx.mean())**2/len(dx)))"
   ]
  },
  {
   "cell_type": "code",
   "execution_count": 96,
   "id": "ee35443a",
   "metadata": {},
   "outputs": [
    {
     "data": {
      "text/html": [
       "<div>\n",
       "<style scoped>\n",
       "    .dataframe tbody tr th:only-of-type {\n",
       "        vertical-align: middle;\n",
       "    }\n",
       "\n",
       "    .dataframe tbody tr th {\n",
       "        vertical-align: top;\n",
       "    }\n",
       "\n",
       "    .dataframe thead th {\n",
       "        text-align: right;\n",
       "    }\n",
       "</style>\n",
       "<table border=\"1\" class=\"dataframe\">\n",
       "  <thead>\n",
       "    <tr style=\"text-align: right;\">\n",
       "      <th></th>\n",
       "      <th>A</th>\n",
       "      <th>B</th>\n",
       "    </tr>\n",
       "  </thead>\n",
       "  <tbody>\n",
       "    <tr>\n",
       "      <th>A</th>\n",
       "      <td>1.0</td>\n",
       "      <td>1.0</td>\n",
       "    </tr>\n",
       "    <tr>\n",
       "      <th>B</th>\n",
       "      <td>1.0</td>\n",
       "      <td>1.0</td>\n",
       "    </tr>\n",
       "  </tbody>\n",
       "</table>\n",
       "</div>"
      ],
      "text/plain": [
       "     A    B\n",
       "A  1.0  1.0\n",
       "B  1.0  1.0"
      ]
     },
     "execution_count": 96,
     "metadata": {},
     "output_type": "execute_result"
    }
   ],
   "source": [
    "#14 write a function to calculate pearson's r for two numerical columns.\n",
    "dm=pd.DataFrame({'A':range(4), 'B': [2*i for i in range(4)]})\n",
    "dm['A'].corr(dm['B'])\n",
    "dm.corr()"
   ]
  },
  {
   "cell_type": "code",
   "execution_count": 101,
   "id": "e362a294",
   "metadata": {},
   "outputs": [
    {
     "data": {
      "text/plain": [
       "'The mean of all the given samples of a population is the same as the \\nmean of the population(approx) if the sample size is sufficiently large\\nenough with a finite variation.'"
      ]
     },
     "execution_count": 101,
     "metadata": {},
     "output_type": "execute_result"
    }
   ],
   "source": [
    "#15 what is central limit theorem.\n",
    "\"\"\"The mean of all the given samples of a population is the same as the \n",
    "mean of the population(approx) if the sample size is sufficiently large\n",
    "enough with a finite variation.\"\"\""
   ]
  },
  {
   "cell_type": "markdown",
   "id": "5e024d82",
   "metadata": {},
   "source": [
    "Hypothesis testing\n",
    "Critical Value Method\n",
    "\n",
    "Consider this problem — H₀: μ ≤ 350 and H₁: μ > 350\n",
    "\n",
    "In case of a two-tailed test, you find the z-score of 0.975 in the z-table,\n",
    "since 0.975 was cumulative probability of UCV in that case.\n",
    "In this problem, what would be the cumulative probability of critical point\n",
    "in this example for the same significance level of 5%? Type your answer below cell"
   ]
  },
  {
   "cell_type": "code",
   "execution_count": 102,
   "id": "3498bdca",
   "metadata": {},
   "outputs": [
    {
     "data": {
      "text/plain": [
       "' The cumulative probability of the critical point (the total area till that point) would be 0.950\\n&  significance level of 5% is 0.0475'"
      ]
     },
     "execution_count": 102,
     "metadata": {},
     "output_type": "execute_result"
    }
   ],
   "source": [
    "#16 Type your answer here.\n",
    "\"\"\" The cumulative probability of the critical point (the total area till that point) would be 0.950\n",
    "&  significance level of 5% is 0.0475\"\"\""
   ]
  },
  {
   "cell_type": "markdown",
   "id": "3ed7891a",
   "metadata": {},
   "source": [
    "Using Critical Value Method\n",
    "\n",
    "Consider this problem, H₀: μ ≤ 350 and H₁: μ > 350\n",
    "\n",
    "So, the Zc comes out to be 1.645. Now, find the critical value for the given Zc \n",
    "and make the decision to accept or reject the null hypothesis.\n",
    "\n",
    "μ = 350 σ = 90 N (Sample size) = 36 ¯x= 370.16\n",
    "\n"
   ]
  },
  {
   "cell_type": "code",
   "execution_count": 105,
   "id": "1172eeac",
   "metadata": {},
   "outputs": [
    {
     "data": {
      "text/plain": [
       "'The critical value for the given Zc is 374.67 and \\nThe decision to accept or reject the null hypothesis is Rejected'"
      ]
     },
     "execution_count": 105,
     "metadata": {},
     "output_type": "execute_result"
    }
   ],
   "source": [
    "#17 type your answer here.\n",
    "\"\"\"The critical value for the given Zc is 374.67 and \n",
    "The decision to accept or reject the null hypothesis is Rejected\"\"\""
   ]
  },
  {
   "cell_type": "markdown",
   "id": "8c6ed7c9",
   "metadata": {},
   "source": [
    "Let’s solve the following problem on how to make a decision about any hypothesis using the p-value method.\n",
    "\n",
    "You are working as a data analyst at an auditing firm. A manufacturer claims that the average life of its product is 36 months. An auditor selects a sample of 49 units of the product, and calculates the average life to be 34.5 months. The population standard deviation is 4 months. Test the manufacturer’s claim at 3% significance level using the p-value method.\n",
    "\n",
    "First, formulate the hypotheses for this two-tailed test, which would be:\n",
    "\n",
    "                   H₀: μ = 36 months and H₁: μ ≠ 36 months\n",
    "Now, you need to follow the three steps to find the p-value and make a decision.\n",
    "\n",
    "STEP 1 - Calculate the value of z-score for the sample mean point on the distribution. Calculate z-score for sample mean (¯x) = 34.5 months.\n",
    "\n",
    "STEP 2 - Calculate the p-value from the cumulative probability for the calculated z-score using the z-table.(Hint z-score of -2.62 )\n",
    "\n",
    "Hint: The sample mean is on the left side of the distribution and it is a two-tailed test."
   ]
  },
  {
   "cell_type": "code",
   "execution_count": 124,
   "id": "98c8dd40",
   "metadata": {},
   "outputs": [
    {
     "data": {
      "text/plain": [
       "'STEP 1 --> the value of z-score for the sample mean point on the distribution.\\nz-score for sample mean (¯x) = 34.5 months is (34.5 - 36)/(4/√49) = (-1.5) * 7/4 = -2.62.\\nSTEP 2 --> The value in the z-table corresponding to -2.6 on the vertical\\naxis and 0.02 on the horizontal axis is 0.0044.\\nThe p-value would be 2 * 0.0044 = 0.0088.'"
      ]
     },
     "execution_count": 124,
     "metadata": {},
     "output_type": "execute_result"
    }
   ],
   "source": [
    "#18 type your answer\n",
    "\"\"\"STEP 1 --> the value of z-score for the sample mean point on the distribution.\n",
    "z-score for sample mean (¯x) = 34.5 months is (34.5 - 36)/(4/√49) = (-1.5) * 7/4 = -2.62.\n",
    "STEP 2 --> The value in the z-table corresponding to -2.6 on the vertical\n",
    "axis and 0.02 on the horizontal axis is 0.0044.\n",
    "The p-value would be 2 * 0.0044 = 0.0088.\"\"\""
   ]
  },
  {
   "cell_type": "code",
   "execution_count": null,
   "id": "d5a23799",
   "metadata": {},
   "outputs": [],
   "source": [
    " "
   ]
  }
 ],
 "metadata": {
  "kernelspec": {
   "display_name": "Python 3 (ipykernel)",
   "language": "python",
   "name": "python3"
  },
  "language_info": {
   "codemirror_mode": {
    "name": "ipython",
    "version": 3
   },
   "file_extension": ".py",
   "mimetype": "text/x-python",
   "name": "python",
   "nbconvert_exporter": "python",
   "pygments_lexer": "ipython3",
   "version": "3.9.12"
  }
 },
 "nbformat": 4,
 "nbformat_minor": 5
}
